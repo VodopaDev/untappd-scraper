{
 "cells": [
  {
   "cell_type": "code",
   "execution_count": 4,
   "metadata": {},
   "outputs": [],
   "source": [
    "import requests\n",
    "from bs4 import BeautifulSoup\n",
    "import pandas as pd\n",
    "import numpy as np\n",
    "from time import sleep\n",
    "import os\n",
    "import gzip"
   ]
  },
  {
   "cell_type": "markdown",
   "metadata": {},
   "source": [
    "# Basic data structure"
   ]
  },
  {
   "cell_type": "code",
   "execution_count": 5,
   "metadata": {},
   "outputs": [],
   "source": [
    "class CheckIn:\n",
    "    def __init__(self, checkin_id, user_id, beer_id, rating = None, location_id = None, comment = None, tagged_friends = [], cheers = 0):\n",
    "        self.checkin_id = checkin_id\n",
    "        self.user_id = user_id\n",
    "        self.beer_id = beer_id\n",
    "        self.rating = rating\n",
    "        self.location_id = location_id\n",
    "        self.comment = comment\n",
    "        self.tagged_friends = tagged_friends\n",
    "        self.cheers = cheers\n",
    "        \n",
    "    def __repr__(self):\n",
    "        return f\"({self.checkin_id}, {self.user_id}, {self.beer_id}, {self.rating}, {self.location_id}, {self.comment}, {self.tagged_friends}, {self.cheers})\""
   ]
  },
  {
   "cell_type": "markdown",
   "metadata": {},
   "source": [
    "# Scrapping helpers"
   ]
  },
  {
   "cell_type": "code",
   "execution_count": 1,
   "metadata": {},
   "outputs": [],
   "source": [
    "default_headers = { \n",
    "            \"User-Agent\": \"Mozilla/5.0 (Windows NT 10.0; Win64; x64; rv:80.0) Gecko/20100101 Firefox/80.0\",\n",
    "            \"Accept\": \"*/*\",\n",
    "            \"Accept-Language\": \"en-US,en;q=0.5\",\n",
    "            \"X-Requested-With\": \"XMLHttpRequest\",\n",
    "            \"Pragma\": \"no-cache\",\n",
    "            \"Cache-Control\": \"no-cache\",\n",
    "        }\n",
    "\n",
    "def referer_headers(referer):\n",
    "    headers = default_headers.copy()\n",
    "    headers['referer'] = referer\n",
    "    return headers\n",
    "\n",
    "cookies = {'untappd_user_v3_e': '59884cc5903a2ad0d4a2707a8caf891d9ac17e0c016977b66432c1e7ae6b2d5667ed6a177cccf18861870eb1c0d6b333888d6d0c01ae69b45e5dcd0c5bb00d1edReLZMP%2Fi3XSY3q3FUNdC6FMVPkz3hUGk%2FFPBfVStfaamglZ0wJMZczAFofaAewWTdWi%2BCC260FZ1uGrzfRWGg%3D%3D'}"
   ]
  },
  {
   "cell_type": "code",
   "execution_count": 9,
   "metadata": {},
   "outputs": [],
   "source": [
    "def parse_checkin_from_html(checkin):\n",
    "    checkin_id = int(checkin[\"data-checkin-id\"])\n",
    "    checkin_div = checkin.find(\"p\", {\"class\": \"text\"})\n",
    "    user_id = checkin_div.find(\"a\", {\"class\": \"user\"})[\"href\"].split(\"/\")[-1]\n",
    "    checkin_description = checkin_div.contents\n",
    "    \n",
    "    beer_id = None\n",
    "    if ' is drinking a ' in checkin_description:\n",
    "        beer_id = int(checkin_description[checkin_description.index(' is drinking a ') + 1]['href'].split(\"/\")[-1])\n",
    "\n",
    "    location_id = None\n",
    "    if ' at ' in checkin_description:\n",
    "        location_id = int(checkin_description[checkin_description.index(' at ') + 1]['href'].split(\"/\")[-1])\n",
    "        \n",
    "    rating_div = checkin.find(\"div\", {\"class\": \"caps\"})\n",
    "    rating = None if rating_div is None else float(rating_div['data-rating'])\n",
    "\n",
    "    comment_div = checkin.find(\"p\", {\"class\": \"comment-text\"})\n",
    "    comment = None if comment_div is None else comment_div.text.strip()\n",
    "\n",
    "    tagged_friends_div = checkin.find(\"div\", {\"class\": \"tagged-friends\"})\n",
    "    tagged_friends = [] if tagged_friends_div is None else [a[\"href\"].split(\"/\")[-1] for a in tagged_friends_div.findAll(\"a\")]\n",
    "\n",
    "    cheers_div = checkin.find(\"div\", {\"class\": \"cheers\"})\n",
    "    cheers = 0 if cheers_div is None else int(cheers_div.find(\"span\", {\"class\": \"count\"}).find(\"span\").text)\n",
    "\n",
    "    return CheckIn(checkin_id, user_id, beer_id, rating, location_id, comment, tagged_friends, cheers)\n",
    "\n",
    "\n",
    "def scrap_user_checkins(user_id):\n",
    "    request_url = f\"https://untappd.com/user/{user_id}\"\n",
    "    request = requests.get(request_url, headers=default_headers, cookies=cookies)\n",
    "    checkins_div = BeautifulSoup(request.text, 'html.parser').select('div[id*=\"checkin_\"]')\n",
    "    \n",
    "    previous_len = 0\n",
    "    checkins = [parse_checkin_from_html(checkin) for checkin in checkins_div]\n",
    "\n",
    "    more_checkins_headers = referer_headers(f\"Referer: https://untappd.com/user/{user_id}\")\n",
    "    \n",
    "    while len(checkins) != previous_len and len(checkins) < 100:\n",
    "        last_checkin_id = checkins[-1].checkin_id\n",
    "        more_checkins_url = f\"https://untappd.com/profile/more_feed/{user_id}/{last_checkin_id}?v2=true\"\n",
    "        request = requests.get(more_checkins_url, headers=more_checkins_headers, cookies=cookies)\n",
    "        checkins_div = BeautifulSoup(request.text, 'html.parser').select('div[id*=\"checkin_\"]')\n",
    "        checkins += [parse_checkin_from_html(checkin) for checkin in checkins_div]\n",
    "        print(f\"Found {len(checkins)}\")\n",
    "    \n",
    "    return checkins"
   ]
  },
  {
   "cell_type": "markdown",
   "metadata": {},
   "source": [
    "# Crawling"
   ]
  },
  {
   "cell_type": "code",
   "execution_count": 10,
   "metadata": {},
   "outputs": [],
   "source": [
    "def user_ids_to_df(user_ids):\n",
    "    df = pd.DataFrame(index=pd.Index(user_ids, name=\"user_id\"))\n",
    "    df[\"is_visited\"] = False\n",
    "    df[\"name\"] = None\n",
    "    df[\"num_checkins\"] = -1\n",
    "    df[\"num_beers\"] = -1\n",
    "    df[\"num_badges\"] = -1\n",
    "    df[\"num_friends\"] = -1\n",
    "    df[\"friends\"] = None\n",
    "    df[\"is_supporter\"] = False\n",
    "    df[\"facebook\"] = None\n",
    "    df[\"twitter\"] = None\n",
    "    df[\"foursquare\"] = None\n",
    "    df[\"location\"] = None\n",
    "    df[\"profile_picture\"] = None\n",
    "    df[\"profile_banner\"] = None\n",
    "    \n",
    "    df.is_supporter = df.is_supporter.astype(dtype=np.bool, copy=False)\n",
    "    df.num_checkins = df.num_checkins.astype(dtype=np.int32, copy=False)\n",
    "    df.num_beers = df.num_beers.astype(dtype=np.int32, copy=False)\n",
    "    df.num_badges = df.num_badges.astype(dtype=np.int32, copy=False)\n",
    "    df.num_friends = df.num_friends.astype(dtype=np.int32, copy=False)\n",
    "    return df"
   ]
  },
  {
   "cell_type": "code",
   "execution_count": 11,
   "metadata": {},
   "outputs": [],
   "source": [
    "default_visited_row = True, None, -1, -1, -1, -1, None, False, None, None, None, None, None, None\n",
    "\n",
    "def visited_user_to_row(user):\n",
    "    return True, user.name, user.num_checkins, user.num_beers, user.num_badges, user.num_friends, user.friends, user.is_supporter, user.facebook, user.twitter, user.foursquare, user.location, user.profile_picture, user.profile_banner"
   ]
  },
  {
   "cell_type": "code",
   "execution_count": 12,
   "metadata": {},
   "outputs": [],
   "source": [
    "start_users = [\"Dobby67\", \"Sourtats\", \"pasvaiste\", \"TombiLion\", \"errau\", \"timm3h\", \"Sheehan\", \"Jonnyhead\"]\n",
    "users_df = user_ids_to_df(start_users)"
   ]
  },
  {
   "cell_type": "code",
   "execution_count": 13,
   "metadata": {},
   "outputs": [],
   "source": [
    "users_df = pd.read_pickle(\"crawled_users.pkl\")"
   ]
  },
  {
   "cell_type": "code",
   "execution_count": 1,
   "metadata": {},
   "outputs": [
    {
     "ename": "NameError",
     "evalue": "name 'users_df' is not defined",
     "output_type": "error",
     "traceback": [
      "\u001b[1;31m---------------------------------------------------------------------------\u001b[0m",
      "\u001b[1;31mNameError\u001b[0m                                 Traceback (most recent call last)",
      "\u001b[1;32m<ipython-input-1-eb5b2600df6f>\u001b[0m in \u001b[0;36m<module>\u001b[1;34m\u001b[0m\n\u001b[0;32m      1\u001b[0m \u001b[0mi\u001b[0m \u001b[1;33m=\u001b[0m \u001b[1;36m0\u001b[0m\u001b[1;33m\u001b[0m\u001b[1;33m\u001b[0m\u001b[0m\n\u001b[1;32m----> 2\u001b[1;33m \u001b[1;32mwhile\u001b[0m \u001b[0musers_df\u001b[0m\u001b[1;33m[\u001b[0m\u001b[1;33m~\u001b[0m\u001b[0musers_df\u001b[0m\u001b[1;33m.\u001b[0m\u001b[0mis_visited\u001b[0m\u001b[1;33m]\u001b[0m\u001b[1;33m.\u001b[0m\u001b[0mshape\u001b[0m\u001b[1;33m[\u001b[0m\u001b[1;36m0\u001b[0m\u001b[1;33m]\u001b[0m \u001b[1;33m!=\u001b[0m \u001b[1;36m0\u001b[0m \u001b[1;32mand\u001b[0m \u001b[0mi\u001b[0m \u001b[1;33m<\u001b[0m \u001b[1;36m1000\u001b[0m\u001b[1;33m:\u001b[0m\u001b[1;33m\u001b[0m\u001b[1;33m\u001b[0m\u001b[0m\n\u001b[0m\u001b[0;32m      3\u001b[0m     \u001b[0muser_id\u001b[0m \u001b[1;33m=\u001b[0m \u001b[0musers_df\u001b[0m\u001b[1;33m[\u001b[0m\u001b[0musers_df\u001b[0m\u001b[1;33m.\u001b[0m\u001b[0mis_visited\u001b[0m \u001b[1;33m==\u001b[0m \u001b[1;32mFalse\u001b[0m\u001b[1;33m]\u001b[0m\u001b[1;33m.\u001b[0m\u001b[0mindex\u001b[0m\u001b[1;33m[\u001b[0m\u001b[1;36m0\u001b[0m\u001b[1;33m]\u001b[0m\u001b[1;33m\u001b[0m\u001b[1;33m\u001b[0m\u001b[0m\n\u001b[0;32m      4\u001b[0m     \u001b[0mprint\u001b[0m\u001b[1;33m(\u001b[0m\u001b[1;34mf\"Scrapping {user_id}:\"\u001b[0m\u001b[1;33m)\u001b[0m\u001b[1;33m\u001b[0m\u001b[1;33m\u001b[0m\u001b[0m\n\u001b[0;32m      5\u001b[0m \u001b[1;33m\u001b[0m\u001b[0m\n",
      "\u001b[1;31mNameError\u001b[0m: name 'users_df' is not defined"
     ]
    }
   ],
   "source": [
    "i = 0\n",
    "while users_df[~users_df.is_visited].shape[0] != 0 and i < 1000:\n",
    "    user_id = users_df[users_df.is_visited == False].index[0]\n",
    "    print(f\"Scrapping {user_id}:\")\n",
    "    \n",
    "    user_stats = scrap_user(user_id)\n",
    "    sleep(3)\n",
    "    \n",
    "    if user_stats is not None:\n",
    "        print(f\"    -> public profile ({user_stats.num_friends} friends)\")\n",
    "        unseen_users = [friend for friend in user_stats.friends if friend not in users_df.index]\n",
    "        print(f\"    -> with {len(unseen_users)} unseen ids\")\n",
    "        unseen_df = user_ids_to_df(unseen_users)\n",
    "        users_df = users_df.append(unseen_df)\n",
    "        users_df.loc[user_id] = visited_user_to_row(user_stats)\n",
    "    else:\n",
    "        print(\"    -> private profile\")\n",
    "        users_df.loc[user_id] = default_visited_row\n",
    "        \n",
    "    print(f\"    -> {users_df.shape[0]} entries in total\")\n",
    "    users_df.to_pickle(\"crawled_users.pkl\")\n",
    "    i+=1"
   ]
  },
  {
   "cell_type": "markdown",
   "metadata": {},
   "source": [
    "12000 at 13:01  \n",
    "50400 at 14:34  \n",
    "84812 at 17:15  \n",
    "94332 at 18:14  \n",
    "104519 at 19:41  \n",
    "128542 at 23:28  \n",
    "136000 at 00:00\n",
    "\n",
    "restarted at 10h15\n",
    "156551 at 12:50\n"
   ]
  },
  {
   "cell_type": "code",
   "execution_count": null,
   "metadata": {},
   "outputs": [],
   "source": []
  }
 ],
 "metadata": {
  "kernelspec": {
   "display_name": "Python 3",
   "language": "python",
   "name": "python3"
  },
  "language_info": {
   "codemirror_mode": {
    "name": "ipython",
    "version": 3
   },
   "file_extension": ".py",
   "mimetype": "text/x-python",
   "name": "python",
   "nbconvert_exporter": "python",
   "pygments_lexer": "ipython3",
   "version": "3.8.3"
  }
 },
 "nbformat": 4,
 "nbformat_minor": 4
}
