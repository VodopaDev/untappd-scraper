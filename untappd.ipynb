{
 "cells": [
  {
   "cell_type": "code",
   "execution_count": 1,
   "metadata": {},
   "outputs": [],
   "source": [
    "import requests\n",
    "import queue\n",
    "from bs4 import BeautifulSoup\n",
    "import pandas as pd"
   ]
  },
  {
   "cell_type": "code",
   "execution_count": 2,
   "metadata": {},
   "outputs": [],
   "source": [
    "class User:\n",
    "    def __init__(self, user_id, name, checkins, beers, friends, badges, is_supporter):\n",
    "        self.user_id = user_id\n",
    "        self.name = name\n",
    "        self.checkins = checkins\n",
    "        self.beers = beers\n",
    "        self.friends = friends\n",
    "        self.badges = badges\n",
    "        self.is_supporter = is_supporter\n",
    "    \n",
    "    def __repr__(self):\n",
    "        return f\"{self.name} ({self.user_id}), {self.beers} beers, {self.checkins} checkins, {self.friends} friends, {self.badges} badges, {self.is_supporter} supporter\""
   ]
  },
  {
   "cell_type": "code",
   "execution_count": 3,
   "metadata": {},
   "outputs": [],
   "source": [
    "class CheckIn:\n",
    "    def __init__(self, checkin_id, user_id, beer_id, rating = None, location_id = None, comment = '', tagged_friends = [], cheers = 0):\n",
    "        self.checkin_id = checkin_id\n",
    "        self.user_id = user_id\n",
    "        self.beer_id = beer_id\n",
    "        self.rating = rating\n",
    "        self.location_id = location_id\n",
    "        self.comment = comment\n",
    "        self.tagged_friends = tagged_friends\n",
    "        self.cheers = cheers\n",
    "        \n",
    "    def __repr__(self):\n",
    "        return f\"({self.checkin_id}, {self.user_id}, {self.beer_id}, {self.rating}, {self.location_id}, {self.comment}, {self.tagged_friends}, {self.cheers})\""
   ]
  },
  {
   "cell_type": "code",
   "execution_count": 4,
   "metadata": {},
   "outputs": [],
   "source": [
    "class Beer:\n",
    "    def __init__(self, beer_id, name, brewery_id, style, abv, ibu, avg_rating, total_ratings, total_checkins, unique_users):\n",
    "        self.beer_id = beer_id\n",
    "        self.name = name\n",
    "        self.brewery_id = brewery_id\n",
    "        self.style = style\n",
    "        self.abv = abv\n",
    "        self.ibu = ibu\n",
    "        self.avg_rating = avg_rating\n",
    "        self.total_ratings = total_ratings\n",
    "        self.total_checkins = total_checkins\n",
    "        self.unique_users = unique_users\n",
    "    \n",
    "    def __repr__(self):\n",
    "        return f\"({self.beer_id}, {self.name}, {self.brewery_id}, {self.style}, {self.abv} ABV, {self.ibu} IBU, {self.avg_rating}, {self.total_ratings}, {self.total_checkins}, {self.unique_users})\""
   ]
  },
  {
   "cell_type": "code",
   "execution_count": 5,
   "metadata": {},
   "outputs": [],
   "source": [
    "default_headers = { \n",
    "            \"User-Agent\": \"Mozilla/5.0 (Windows NT 10.0; Win64; x64; rv:80.0) Gecko/20100101 Firefox/80.0\",\n",
    "            \"Accept\": \"*/*\",\n",
    "            \"Accept-Language\": \"en-US,en;q=0.5\",\n",
    "            \"X-Requested-With\": \"XMLHttpRequest\",\n",
    "            \"Pragma\": \"no-cache\",\n",
    "            \"Cache-Control\": \"no-cache\",\n",
    "        }\n",
    "\n",
    "def referer_headers(referer):\n",
    "    headers = default_headers.copy()\n",
    "    headers['referer'] = referer\n",
    "    return headers\n",
    "\n",
    "cookies = {'untappd_user_v3_e': '59884cc5903a2ad0d4a2707a8caf891d9ac17e0c016977b66432c1e7ae6b2d5667ed6a177cccf18861870eb1c0d6b333888d6d0c01ae69b45e5dcd0c5bb00d1edReLZMP%2Fi3XSY3q3FUNdC6FMVPkz3hUGk%2FFPBfVStfaamglZ0wJMZczAFofaAewWTdWi%2BCC260FZ1uGrzfRWGg%3D%3D'}"
   ]
  },
  {
   "cell_type": "code",
   "execution_count": 6,
   "metadata": {},
   "outputs": [],
   "source": [
    "def scrap_user_friends(user_id):\n",
    "    friends_url = f\"https://untappd.com/user/{user_id}/friends\"\n",
    "    request = requests.get(friends_url, headers=default_headers, cookies=cookies) \n",
    "    if request.status_code != 200:\n",
    "        print(\"ERROR: {} for {}\".format(request.status_code, username))\n",
    "        return []\n",
    "    \n",
    "    friends_div = BeautifulSoup(request.text, 'html.parser').find(\"div\", {\"class\": \"current\"})\n",
    "    all_friends = [span.getText() for span in friends_div.findAll(\"span\", {\"class\": \"username\"})]\n",
    "    \n",
    "    if len(all_friends) == 25:\n",
    "        done = False\n",
    "        i = 25\n",
    "        headers = referer_headers(f\"https://untappd.com/user/{user_id}/friends\")\n",
    "\n",
    "        while not done:\n",
    "            more_friends_url_template = f\"https://untappd.com/friend/more_friends/{user_id}/{i}?sort=\"\n",
    "            request = requests.get(more_friends_url_template, headers=headers, cookies=cookies)\n",
    "\n",
    "            if len(request.text) == 0:\n",
    "                done = True\n",
    "            else:\n",
    "                soup = BeautifulSoup(request.text, 'html.parser')\n",
    "                all_friends = all_friends + [a.text for a in soup.findAll(\"span\", {\"class\": \"username\"})]\n",
    "                i += 25\n",
    "                \n",
    "    return all_friends"
   ]
  },
  {
   "cell_type": "code",
   "execution_count": 7,
   "metadata": {},
   "outputs": [],
   "source": [
    "def scrap_user_stats(user_id):\n",
    "    user_url = f\"https://untappd.com/user/{user_id}\"\n",
    "    request = requests.get(user_url, headers=default_headers, cookies=cookies)\n",
    "    soup = BeautifulSoup(request.text, 'html.parser')\n",
    "    \n",
    "    name = soup.find(\"div\", {\"class\": \"info\"}).find(\"h1\").text.strip()\n",
    "\n",
    "    stats_div = soup.find(\"div\", {\"class\": \"stats\"})\n",
    "    def find_stat_with_href(href):\n",
    "        return int(stats_div.find(\"a\", {\"href\": href}).find(\"span\", {\"class\": \"stat\"}).text.replace(\",\", \"\"))\n",
    "\n",
    "    checkins = find_stat_with_href(f\"/user/{user_id}\")\n",
    "    beers = find_stat_with_href(f\"/user/{user_id}/beers\")\n",
    "    friends = find_stat_with_href(f\"/user/{user_id}/friends\")\n",
    "    badges = find_stat_with_href(f\"/user/{user_id}/badges\")\n",
    "    is_supporter = soup.find(\"span\", {\"class\": \"supporter\"}) is not None\n",
    "    return User(user_id, name, checkins, beers, friends, badges, is_supporter)"
   ]
  },
  {
   "cell_type": "code",
   "execution_count": 16,
   "metadata": {},
   "outputs": [],
   "source": [
    "def parse_checkin_from_html(checkin):\n",
    "    checkin_id = int(checkin[\"data-checkin-id\"])\n",
    "    checkin_div = checkin.find(\"p\", {\"class\": \"text\"})\n",
    "    user_id = checkin_div.find(\"a\", {\"class\": \"user\"})[\"href\"].split(\"/\")[-1]\n",
    "    checkin_description = checkin_div.contents\n",
    "    \n",
    "    beer_id = None\n",
    "    if ' is drinking a ' in checkin_description:\n",
    "        beer_id = int(checkin_description[checkin_description.index(' is drinking a ') + 1]['href'].split(\"/\")[-1])\n",
    "\n",
    "    location_id = None\n",
    "    if ' at ' in checkin_description:\n",
    "        location_id = int(checkin_description[checkin_description.index(' at ') + 1]['href'].split(\"/\")[-1])\n",
    "        \n",
    "    rating_div = checkin.find(\"div\", {\"class\": \"caps\"})\n",
    "    rating = None if rating_div is None else float(rating_div['data-rating'])\n",
    "\n",
    "    comment_div = checkin.find(\"p\", {\"class\": \"comment-text\"})\n",
    "    comment = None if comment_div is None else comment_div.text.strip()\n",
    "\n",
    "    tagged_friends_div = checkin.find(\"div\", {\"class\": \"tagged-friends\"})\n",
    "    tagged_friends = [] if tagged_friends_div is None else [a[\"href\"].split(\"/\")[-1] for a in tagged_friends_div.findAll(\"a\")]\n",
    "\n",
    "    cheers_div = checkin.find(\"div\", {\"class\": \"cheers\"})\n",
    "    cheers = 0 if cheers_div is None else int(cheers_div.find(\"span\", {\"class\": \"count\"}).find(\"span\").text)\n",
    "\n",
    "    return CheckIn(checkin_id, user_id, beer_id, rating, location_id, comment, tagged_friends, cheers)\n",
    "\n",
    "\n",
    "def scrap_user_checkins(user_id):\n",
    "    request_url = f\"https://untappd.com/user/{user_id}\"\n",
    "    request = requests.get(request_url, headers=default_headers, cookies=cookies)\n",
    "    checkins_div = BeautifulSoup(request.text, 'html.parser').select('div[id*=\"checkin_\"]')\n",
    "    \n",
    "    previous_len = 0\n",
    "    checkins = [parse_checkin_from_html(checkin) for checkin in checkins_div]\n",
    "\n",
    "    more_checkins_headers = referer_headers(f\"Referer: https://untappd.com/user/{user_id}\")\n",
    "    \n",
    "    while len(checkins) != previous_len and len(checkins) < 100:\n",
    "        last_checkin_id = checkins[-1].checkin_id\n",
    "        more_checkins_url = f\"https://untappd.com/profile/more_feed/{user_id}/{last_checkin_id}?v2=true\"\n",
    "        request = requests.get(more_checkins_url, headers=more_checkins_headers, cookies=cookies)\n",
    "        checkins_div = BeautifulSoup(request.text, 'html.parser').select('div[id*=\"checkin_\"]')\n",
    "        checkins += [parse_checkin_from_html(checkin) for checkin in checkins_div]\n",
    "        print(f\"Found {len(checkins)}\")\n",
    "    \n",
    "    return checkins"
   ]
  },
  {
   "cell_type": "code",
   "execution_count": 18,
   "metadata": {},
   "outputs": [
    {
     "name": "stdout",
     "output_type": "stream",
     "text": [
      "Found 45\n",
      "Found 70\n",
      "Found 95\n",
      "Found 120\n"
     ]
    }
   ],
   "source": [
    "    request_url = f\"https://untappd.com/b/brewdog-punk-ipa/5702\"\n",
    "    request = requests.get(request_url, headers=default_headers, cookies=cookies)\n",
    "    checkins_div = BeautifulSoup(request.text, 'html.parser').select('div[id*=\"checkin_\"]')\n",
    "    \n",
    "    previous_len = 0\n",
    "    checkins = [parse_checkin_from_html(checkin) for checkin in checkins_div]\n",
    "\n",
    "    more_checkins_headers = referer_headers(f\"https://untappd.com/b/brewdog-punk-ipa/5702\")\n",
    "    \n",
    "    while len(checkins) != previous_len and len(checkins) < 100:\n",
    "        last_checkin_id = checkins[-1].checkin_id\n",
    "        more_checkins_url = f\"https://untappd.com/beer/more_feed/{5702}/{last_checkin_id}?v2=true\"\n",
    "        request = requests.get(more_checkins_url, headers=more_checkins_headers, cookies=cookies)\n",
    "        checkins_div = BeautifulSoup(request.text, 'html.parser').select('div[id*=\"checkin_\"]')\n",
    "        checkins += [parse_checkin_from_html(checkin) for checkin in checkins_div]\n",
    "        print(f\"Found {len(checkins)}\")"
   ]
  },
  {
   "cell_type": "code",
   "execution_count": 19,
   "metadata": {},
   "outputs": [
    {
     "data": {
      "text/plain": [
       "120"
      ]
     },
     "execution_count": 19,
     "metadata": {},
     "output_type": "execute_result"
    }
   ],
   "source": [
    "len(checkins)"
   ]
  },
  {
   "cell_type": "code",
   "execution_count": 56,
   "metadata": {},
   "outputs": [],
   "source": [
    "beer_id = 96597\n",
    "beer_url = f\"https://untappd.com/b/a/{beer_id}\"\n",
    "request = requests.get(beer_url, headers=default_headers, cookies=cookies)\n",
    "soup = BeautifulSoup(request.text, 'html.parser')"
   ]
  },
  {
   "cell_type": "code",
   "execution_count": 57,
   "metadata": {},
   "outputs": [
    {
     "data": {
      "text/plain": [
       "('Gulden Draak 9000 Quadruple',\n",
       " 'BrouwerijVanSteenberge',\n",
       " 'Belgian Quadrupel',\n",
       " 10.5,\n",
       " 25,\n",
       " 3.88253,\n",
       " 105508)"
      ]
     },
     "execution_count": 57,
     "metadata": {},
     "output_type": "execute_result"
    }
   ],
   "source": [
    "name_div = soup.find(\"div\", {\"class\": \"name\"})\n",
    "name = name_div.find(\"h1\").text\n",
    "brewery_id = name_div.find(\"a\")['href'].split(\"/\")[-1]\n",
    "style = name_div.find(\"p\", {\"class\":\"style\"}).text\n",
    "\n",
    "details_div = soup.find(\"div\", {\"class\": \"details\"})\n",
    "abv = float(details_div.find(\"p\", {\"class\": \"abv\"}).text.split(\"%\")[0])\n",
    "ibu_text = details_div.find(\"p\", {\"class\": \"ibu\"}).text.strip()\n",
    "ibu = None if ibu_text == \"No IBU\" else int(ibu_text.split(\" \")[0])\n",
    "avg_rating = float(details_div.find(\"div\", {\"class\": \"caps\"})[\"data-rating\"])\n",
    "total_ratings = int(details_div.find(\"p\", {\"class\": \"raters\"}).text.split(\" \")[0].replace(\",\", \"\"))\n",
    "\n",
    "\n",
    "name, brewery_id, style, abv, ibu, avg_rating, total_ratings"
   ]
  },
  {
   "cell_type": "code",
   "execution_count": 25,
   "metadata": {},
   "outputs": [],
   "source": [
    "users_df = pd.DataFrame(index=[\"user_id\"], columns=[\"name\", \"checkins\", \"beers\", \"friends\", \"badges\", \"is_supporter\"])\n",
    "scrapped_user = scrap_user_stats(\"84Vince\")"
   ]
  },
  {
   "cell_type": "code",
   "execution_count": 27,
   "metadata": {},
   "outputs": [
    {
     "data": {
      "text/plain": [
       "(1, 6)"
      ]
     },
     "execution_count": 27,
     "metadata": {},
     "output_type": "execute_result"
    }
   ],
   "source": []
  },
  {
   "cell_type": "code",
   "execution_count": null,
   "metadata": {},
   "outputs": [],
   "source": [
    "start_user = \"Jonnyhead\"\n",
    "unvisited_nodes = set()\n",
    "unvisited_nodes.add(start_user)\n",
    "\n",
    "visited_nodes = set()\n",
    "total_nodes = [0]\n",
    "\n",
    "i = 0\n",
    "while len(unvisited_nodes) > 0:\n",
    "    username = unvisited_nodes.pop()\n",
    "    for friend in get_user_friends(username):\n",
    "        if friend not in unvisited_nodes and friend not in visited_nodes:\n",
    "            unvisited_nodes.add(friend)\n",
    "    visited_nodes.add(username)\n",
    "    total_nodes.append(len(unvisited_nodes) + len(visited_nodes))\n",
    "    print(\"{:03d}: {} found users            \".format(i+1, len(unvisited_nodes) + len(visited_nodes)), end='\\r')\n",
    "    i += 1"
   ]
  }
 ],
 "metadata": {
  "kernelspec": {
   "display_name": "Python 3",
   "language": "python",
   "name": "python3"
  },
  "language_info": {
   "codemirror_mode": {
    "name": "ipython",
    "version": 3
   },
   "file_extension": ".py",
   "mimetype": "text/x-python",
   "name": "python",
   "nbconvert_exporter": "python",
   "pygments_lexer": "ipython3",
   "version": "3.8.3"
  }
 },
 "nbformat": 4,
 "nbformat_minor": 4
}
