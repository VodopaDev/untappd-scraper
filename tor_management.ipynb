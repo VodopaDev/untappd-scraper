{
 "cells": [
  {
   "cell_type": "code",
   "execution_count": 1,
   "metadata": {},
   "outputs": [],
   "source": [
    "import os\n",
    "import threading"
   ]
  },
  {
   "cell_type": "code",
   "execution_count": 2,
   "metadata": {},
   "outputs": [],
   "source": [
    "def torrc_text(starting_port, i):\n",
    "    return f\"\"\"SocksPort {starting_port + 2*i}\\nControlPort {starting_port + 2*i + 1}\\nDataDirectory tor/data/tor{i}\"\"\"\n",
    "\n",
    "def gen_conf(starting_port, number_of_proxies, path=\"tor/conf/\"):\n",
    "    for filename in os.listdir(path):\n",
    "        if os.path.isfile(path + filename):\n",
    "            os.remove(path + filename)\n",
    "            \n",
    "    dig_template = \"torrc.{:0\" + str(len(str(number_of_proxies-1))) + \"d}\"\n",
    "    for i in range(number_of_proxies):\n",
    "        with open(path + dig_template.format(i), \"w\") as f:\n",
    "            f.write(torrc_text(starting_port, i))"
   ]
  },
  {
   "cell_type": "code",
   "execution_count": 3,
   "metadata": {},
   "outputs": [],
   "source": [
    "def tor_start_thread(conf_file):\n",
    "    os.system(\"tor -f {}\".format(conf_file))"
   ]
  },
  {
   "cell_type": "code",
   "execution_count": 4,
   "metadata": {},
   "outputs": [],
   "source": [
    "starting_port = 10000\n",
    "number_of_proxies = 50\n",
    "gen_conf(starting_port, number_of_proxies)"
   ]
  },
  {
   "cell_type": "code",
   "execution_count": 5,
   "metadata": {},
   "outputs": [],
   "source": [
    "path = \"tor/conf/\"\n",
    "tor_confs = [path + name for name in os.listdir(path) if name.startswith(\"torrc\")]\n",
    "threads = [threading.Thread(target=tor_start_thread, args=(conf,)) for conf in tor_confs]\n",
    "for thread in threads:\n",
    "    thread.start()"
   ]
  },
  {
   "cell_type": "code",
   "execution_count": 7,
   "metadata": {},
   "outputs": [
    {
     "name": "stdout",
     "output_type": "stream",
     "text": [
      "<Thread(Thread-4, started 140234213803776)>\n",
      "<Thread(Thread-5, started 140234205411072)>\n",
      "<Thread(Thread-6, started 140234197018368)>\n",
      "<Thread(Thread-7, started 140234188625664)>\n",
      "<Thread(Thread-8, started 140233702110976)>\n",
      "<Thread(Thread-9, started 140233693718272)>\n",
      "<Thread(Thread-10, started 140233685325568)>\n",
      "<Thread(Thread-11, started 140233676932864)>\n",
      "<Thread(Thread-12, started 140233668540160)>\n",
      "<Thread(Thread-13, started 140233660147456)>\n",
      "<Thread(Thread-14, started 140233651754752)>\n",
      "<Thread(Thread-15, started 140233165240064)>\n",
      "<Thread(Thread-16, started 140233156847360)>\n",
      "<Thread(Thread-17, started 140233148454656)>\n",
      "<Thread(Thread-18, started 140233140061952)>\n",
      "<Thread(Thread-19, started 140233131669248)>\n",
      "<Thread(Thread-20, started 140233123276544)>\n",
      "<Thread(Thread-21, started 140233114883840)>\n",
      "<Thread(Thread-22, started 140232628369152)>\n",
      "<Thread(Thread-23, started 140232619976448)>\n",
      "<Thread(Thread-24, started 140232611583744)>\n",
      "<Thread(Thread-25, started 140232603191040)>\n",
      "<Thread(Thread-26, started 140232594798336)>\n",
      "<Thread(Thread-27, started 140232586405632)>\n",
      "<Thread(Thread-28, started 140232578012928)>\n",
      "<Thread(Thread-29, started 140232091498240)>\n",
      "<Thread(Thread-30, started 140232083105536)>\n",
      "<Thread(Thread-31, started 140232074712832)>\n",
      "<Thread(Thread-32, started 140232066320128)>\n",
      "<Thread(Thread-33, started 140232057927424)>\n",
      "<Thread(Thread-34, started 140232049534720)>\n",
      "<Thread(Thread-35, started 140232041142016)>\n",
      "<Thread(Thread-36, started 140232032749312)>\n",
      "<Thread(Thread-37, started 140232024356608)>\n",
      "<Thread(Thread-38, started 140232015963904)>\n",
      "<Thread(Thread-39, started 140232007571200)>\n",
      "<Thread(Thread-40, started 140231999178496)>\n",
      "<Thread(Thread-41, started 140231990785792)>\n",
      "<Thread(Thread-42, started 140231982393088)>\n",
      "<Thread(Thread-43, started 140231974000384)>\n",
      "<Thread(Thread-44, started 140231965607680)>\n",
      "<Thread(Thread-45, started 140231957214976)>\n",
      "<Thread(Thread-46, started 140231948822272)>\n",
      "<Thread(Thread-47, started 140231940429568)>\n",
      "<Thread(Thread-48, started 140231932036864)>\n",
      "<Thread(Thread-49, started 140231923644160)>\n",
      "<Thread(Thread-50, started 140231915251456)>\n",
      "<Thread(Thread-51, started 140231906858752)>\n",
      "<Thread(Thread-52, started 140231898466048)>\n",
      "<Thread(Thread-53, started 140231890073344)>\n"
     ]
    }
   ],
   "source": [
    "for thread in threads:\n",
    "    print(thread)"
   ]
  },
  {
   "cell_type": "code",
   "execution_count": null,
   "metadata": {},
   "outputs": [],
   "source": []
  }
 ],
 "metadata": {
  "kernelspec": {
   "display_name": "Python 3",
   "language": "python",
   "name": "python3"
  },
  "language_info": {
   "codemirror_mode": {
    "name": "ipython",
    "version": 3
   },
   "file_extension": ".py",
   "mimetype": "text/x-python",
   "name": "python",
   "nbconvert_exporter": "python",
   "pygments_lexer": "ipython3",
   "version": "3.8.3"
  }
 },
 "nbformat": 4,
 "nbformat_minor": 4
}
