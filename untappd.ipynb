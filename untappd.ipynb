{
 "cells": [
  {
   "cell_type": "code",
   "execution_count": 37,
   "metadata": {},
   "outputs": [],
   "source": [
    "import requests\n",
    "import queue\n",
    "from bs4 import BeautifulSoup"
   ]
  },
  {
   "cell_type": "code",
   "execution_count": null,
   "metadata": {},
   "outputs": [],
   "source": [
    "user_friends_url_template = \"https://untappd.com/user/{}/friends\"\n",
    "headers = {'user-agent': 'Mozilla/5.0 (Windows NT 10.0; Win64; x64) AppleWebKit/537.36 (KHTML, like Gecko) Chrome/75.0.3770.142 Safari/537.36'}\n",
    "\n",
    "def build_user_request(username):\n",
    "    return requests.get(user_friends_url_template.format(username), headers=headers)"
   ]
  },
  {
   "cell_type": "code",
   "execution_count": 135,
   "metadata": {},
   "outputs": [
    {
     "name": "stdout",
     "output_type": "stream",
     "text": [
      "100/100: 683 unvisited users            \r"
     ]
    }
   ],
   "source": [
    "start_user = \"Jonnyhead\"\n",
    "unvisited_nodes = set()\n",
    "unvisited_nodes.add(start_user)\n",
    "\n",
    "visited_nodes = set()\n",
    "\n",
    "i = 0\n",
    "max_request = 100\n",
    "\n",
    "while len(unvisited_nodes) > 0 and i < max_request:\n",
    "    user = unvisited_nodes.pop()\n",
    "    r = build_user_request(user)\n",
    "    soup = BeautifulSoup(r.text, 'html.parser')\n",
    "    for span in soup.body.findAll(\"span\", {\"class\": \"username\"}):\n",
    "        friend = span.getText()\n",
    "        if friend not in unvisited_nodes and friend not in visited_nodes:\n",
    "            unvisited_nodes.add(friend)\n",
    "    visited_nodes.add(user)\n",
    "    print(\"{:03d}/{:03d}: {} unvisited users            \".format(i+1, max_request, len(unvisited_nodes)), end='\\r')\n",
    "    i += 1"
   ]
  }
 ],
 "metadata": {
  "kernelspec": {
   "display_name": "Python 3",
   "language": "python",
   "name": "python3"
  },
  "language_info": {
   "codemirror_mode": {
    "name": "ipython",
    "version": 3
   },
   "file_extension": ".py",
   "mimetype": "text/x-python",
   "name": "python",
   "nbconvert_exporter": "python",
   "pygments_lexer": "ipython3",
   "version": "3.8.3"
  }
 },
 "nbformat": 4,
 "nbformat_minor": 4
}
