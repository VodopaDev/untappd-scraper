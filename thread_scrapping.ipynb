{
 "cells": [
  {
   "cell_type": "code",
   "execution_count": 1,
   "metadata": {},
   "outputs": [],
   "source": [
    "import threading\n",
    "import time\n",
    "import random\n",
    "import requests\n",
    "import pandas as pd\n",
    "import numpy as np\n",
    "\n",
    "from user_stats_scrapper import UserStatsScrapper\n",
    "from user_friends_scrapper import UserFriendsScrapper"
   ]
  },
  {
   "cell_type": "code",
   "execution_count": 2,
   "metadata": {},
   "outputs": [],
   "source": [
    "def user_ids_to_df(user_ids):\n",
    "    df = pd.DataFrame(index=pd.Index(user_ids, name=\"user_id\"))\n",
    "    df[\"is_visited\"] = False\n",
    "    df[\"name\"] = None\n",
    "    df[\"num_checkins\"] = -1\n",
    "    df[\"num_beers\"] = -1\n",
    "    df[\"num_badges\"] = -1\n",
    "    df[\"num_friends\"] = -1\n",
    "    df[\"friends\"] = None\n",
    "    df[\"is_supporter\"] = False\n",
    "    df[\"facebook\"] = None\n",
    "    df[\"twitter\"] = None\n",
    "    df[\"foursquare\"] = None\n",
    "    df[\"location\"] = None\n",
    "    df[\"profile_picture\"] = None\n",
    "    df[\"profile_banner\"] = None\n",
    "    \n",
    "    df.is_supporter = df.is_supporter.astype(dtype=np.bool, copy=False)\n",
    "    df.num_checkins = df.num_checkins.astype(dtype=np.int32, copy=False)\n",
    "    df.num_beers = df.num_beers.astype(dtype=np.int32, copy=False)\n",
    "    df.num_badges = df.num_badges.astype(dtype=np.int32, copy=False)\n",
    "    df.num_friends = df.num_friends.astype(dtype=np.int32, copy=False)\n",
    "    return df"
   ]
  },
  {
   "cell_type": "code",
   "execution_count": 3,
   "metadata": {},
   "outputs": [],
   "source": [
    "default_visited_row = True, None, -1, -1, -1, -1, None, False, None, None, None, None, None, None\n",
    "\n",
    "def visited_user_to_row(user):\n",
    "    return True, user.name, user.num_checkins, user.num_beers, user.num_badges, user.num_friends, user.friends, user.is_supporter, user.facebook, user.twitter, user.foursquare, user.location, user.profile_picture, user.profile_banner"
   ]
  },
  {
   "cell_type": "code",
   "execution_count": 4,
   "metadata": {},
   "outputs": [],
   "source": [
    "df_lock = threading.Lock()\n",
    "users_df = pd.read_pickle(\"crawled_users.pkl\")"
   ]
  },
  {
   "cell_type": "code",
   "execution_count": 5,
   "metadata": {},
   "outputs": [],
   "source": [
    "def log(thread_id, msg, is_local):\n",
    "    with open(f\"log/{thread_id}.txt\", \"a\") as f:\n",
    "        f.write(msg + \"\\n\")  \n",
    "    if is_local:\n",
    "        print(msg)"
   ]
  },
  {
   "cell_type": "code",
   "execution_count": 6,
   "metadata": {},
   "outputs": [],
   "source": [
    "def user_scrapping_thread(thread_id, user_ids, proxies, is_local=False):\n",
    "    global users_df\n",
    "    auth_cookie = {'untappd_user_v3_e': '59884cc5903a2ad0d4a2707a8caf891d9ac17e0c016977b66432c1e7ae6b2d5667ed6a177cccf18861870eb1c0d6b333888d6d0c01ae69b45e5dcd0c5bb00d1edReLZMP%2Fi3XSY3q3FUNdC6FMVPkz3hUGk%2FFPBfVStfaamglZ0wJMZczAFofaAewWTdWi%2BCC260FZ1uGrzfRWGg%3D%3D'}\n",
    "    \n",
    "    for user_id in user_ids:\n",
    "        log(thread_id, f\"Scrapping {user_id}:\", is_local)\n",
    "\n",
    "        user_stats = UserStatsScrapper(user_id).scrap(auth_cookie, proxies)\n",
    "        time.sleep(2)\n",
    "\n",
    "        if user_stats is not None:\n",
    "            log(thread_id, f\"    -> public profile ({user_stats.num_friends} friends)\", is_local)\n",
    "            user_friends = UserFriendsScrapper(user_id, user_stats.num_friends).scrap(auth_cookie, proxies)\n",
    "            user_stats.friends = user_friends\n",
    "            \n",
    "            unseen_users = []\n",
    "            if user_friends is not None:\n",
    "                unseen_users = [friend for friend in user_stats.friends if friend not in users_df.index]\n",
    "            \n",
    "            log(thread_id, f\"    -> with {len(unseen_users)} unseen ids\", is_local)\n",
    "            unseen_df = user_ids_to_df(unseen_users)\n",
    "            df_lock.acquire()\n",
    "            try:\n",
    "                users_df = users_df.append(unseen_df)\n",
    "                users_df.loc[user_id] = visited_user_to_row(user_stats)\n",
    "                if is_local:\n",
    "                    users_df.to_pickle(\"crawled_users.pkl\")\n",
    "            finally:\n",
    "                log(thread_id, f\"    -> {users_df.shape[0]} entries in total\", is_local)\n",
    "                df_lock.release()\n",
    "        else:\n",
    "            log(thread_id, \"    -> private profile\", is_local)\n",
    "            df_lock.acquire()\n",
    "            try:\n",
    "                users_df.loc[user_id] = default_visited_row\n",
    "                if is_local:\n",
    "                    users_df.to_pickle(\"crawled_users.pkl\")\n",
    "            finally:\n",
    "                log(thread_id, f\"    -> {users_df.shape[0]} entries in total\", is_local)\n",
    "                df_lock.release()"
   ]
  },
  {
   "cell_type": "code",
   "execution_count": 7,
   "metadata": {},
   "outputs": [],
   "source": [
    "number_of_threads = 1\n",
    "proxies_split_lists = [None] * number_of_threads #[a.tolist() for a in np.array_split(txt_proxies.copy(), number_of_threads)]\n",
    "user_ids_split_lists = [a.to_list() for a in np.array_split(users_df[~users_df.is_visited].index, number_of_threads)]"
   ]
  },
  {
   "cell_type": "code",
   "execution_count": null,
   "metadata": {},
   "outputs": [],
   "source": [
    "for i in range(number_of_threads):\n",
    "    x = threading.Thread(target=user_scrapping_thread, args=(i, user_ids_split_lists[i], proxies_split_lists[i], True,))\n",
    "    x.start()"
   ]
  },
  {
   "cell_type": "code",
   "execution_count": null,
   "metadata": {},
   "outputs": [],
   "source": [
    "user_scrapping_thread(0, user_ids_split_lists[0], proxies_split_lists[0], True)"
   ]
  },
  {
   "cell_type": "markdown",
   "metadata": {},
   "source": [
    "**17/09:**  \n",
    "12000 at 13:01  \n",
    "50400 at 14:34  \n",
    "84812 at 17:15  \n",
    "94332 at 18:14  \n",
    "104519 at 19:41  \n",
    "128542 at 23:28  \n",
    "136000 at 00:00  \n",
    "  \n",
    "**18/09:**  \n",
    "restarted at 10h15  \n",
    "156551 at 12:50 <- threading was unsuccessful  \n",
    "180000 at 16:53  \n",
    "201587 at 19:45  \n",
    "224700 at 23:45"
   ]
  },
  {
   "cell_type": "code",
   "execution_count": null,
   "metadata": {},
   "outputs": [],
   "source": []
  }
 ],
 "metadata": {
  "kernelspec": {
   "display_name": "Python 3",
   "language": "python",
   "name": "python3"
  },
  "language_info": {
   "codemirror_mode": {
    "name": "ipython",
    "version": 3
   },
   "file_extension": ".py",
   "mimetype": "text/x-python",
   "name": "python",
   "nbconvert_exporter": "python",
   "pygments_lexer": "ipython3",
   "version": "3.8.3"
  }
 },
 "nbformat": 4,
 "nbformat_minor": 4
}
