{
 "cells": [
  {
   "cell_type": "code",
   "execution_count": 1,
   "metadata": {},
   "outputs": [],
   "source": [
    "import requests\n",
    "import queue\n",
    "from bs4 import BeautifulSoup"
   ]
  },
  {
   "cell_type": "code",
   "execution_count": 2,
   "metadata": {},
   "outputs": [],
   "source": [
    "class VisitedUser:\n",
    "    def __init__(self, user_id, name, checkins, beers, friends, badges):\n",
    "        self.user_id = user_id\n",
    "        self.name = name\n",
    "        self.checkins = checkins\n",
    "        self.beers = beers\n",
    "        self.friends = friends\n",
    "        self.badges = badges\n",
    "    \n",
    "    def __repr__(self):\n",
    "        return f\"{self.name} ({self.user_id}) has rated {self.beers} beers through {self.checkins} checkins, has {self.friends} friends and got {self.badges} badges\""
   ]
  },
  {
   "cell_type": "code",
   "execution_count": 3,
   "metadata": {},
   "outputs": [],
   "source": [
    "class CheckIn:\n",
    "    def __init__(self, checkin_id, user_id, beer_id, rating = None, location_id = None, comment = '', tagged_friends = [], cheers = 0):\n",
    "        self.checkin_id = checkin_id\n",
    "        self.user_id = user_id\n",
    "        self.beer_id = beer_id\n",
    "        self.rating = rating\n",
    "        self.location_id = location_id\n",
    "        self.comment = comment\n",
    "        self.tagged_friends = tagged_friends\n",
    "        self.cheers = cheers"
   ]
  },
  {
   "cell_type": "code",
   "execution_count": 4,
   "metadata": {},
   "outputs": [],
   "source": [
    "headers = {'user-agent': 'Mozilla/5.0 (X11; Ubuntu; Linux x86_64; rv:80.0) Gecko/20100101 Firefox/80.0'}\n",
    "cookies = {'untappd_user_v3_e': '2d3777bd1b7400dad5984e058296c4a40f706e511c88fb81e3d076bb966c637db308642b067f6d8e785ab6a6b9ab18469688860d31156b26bf166a580a1a2de77efrl%2FvnfpEqSsdCYRCRZteMw4gouJAbPdaxmrmOTmO9JO78aqRSN6pVBbpUAPqK6mBkmFCc3CAykAx9%2B1lQOA%3D%3D'}"
   ]
  },
  {
   "cell_type": "code",
   "execution_count": 5,
   "metadata": {},
   "outputs": [],
   "source": [
    "user_friends_url_template = \"https://untappd.com/user/{}/friends\"\n",
    "more_friends_url_template = \"https://untappd.com/friend/more_friends/{}/{}?sort=\"\n",
    "\n",
    "def get_user_friends(username):\n",
    "    request = requests.get(user_friends_url_template.format(username), headers=headers, cookies=cookies) \n",
    "    if request.status_code != 200:\n",
    "        print(\"ERROR: {} for {}\".format(request.status_code, username))\n",
    "        return []\n",
    "    \n",
    "    soup = BeautifulSoup(request.text, 'html.parser')\n",
    "    \n",
    "    return [span.getText() for span in soup.body.findAll(\"span\", {\"class\": \"username\"})]"
   ]
  },
  {
   "cell_type": "code",
   "execution_count": 6,
   "metadata": {},
   "outputs": [],
   "source": [
    "def scrap_user_stats(user_id):\n",
    "    request_url = f\"https://untappd.com/user/{user_id}\"\n",
    "    request = requests.get(request_url, headers=headers, cookies=cookies)\n",
    "    soup = BeautifulSoup(request.text, 'html.parser')\n",
    "    \n",
    "    name = soup.find(\"div\", {\"class\": \"info\"}).find(\"h1\").text.strip()\n",
    "\n",
    "    stats_div = soup.find(\"div\", {\"class\": \"stats\"})\n",
    "    def find_stat_with_href(href):\n",
    "        return int(stats_div.find(\"a\", {\"href\": href}).find(\"span\", {\"class\": \"stat\"}).text.replace(\",\", \"\"))\n",
    "\n",
    "    checkins = find_stat_with_href(f\"/user/{user_id}\")\n",
    "    beers = find_stat_with_href(f\"/user/{user_id}/beers\")\n",
    "    friends = find_stat_with_href(f\"/user/{user_id}/friends\")\n",
    "    badges = find_stat_with_href(f\"/user/{user_id}/badges\")\n",
    "    return VisitedUser(user_id, name, checkins, beers, friends, badges)"
   ]
  },
  {
   "cell_type": "code",
   "execution_count": 7,
   "metadata": {},
   "outputs": [],
   "source": [
    "def scrap_user_checkins(user_id):\n",
    "    request_url = f\"https://untappd.com/user/{user_id}\"\n",
    "    request = requests.get(request_url, headers=headers, cookies=cookies)\n",
    "    checkins = BeautifulSoup(request.text, 'html.parser').select('div[id*=\"checkin_\"]')\n",
    "    \n",
    "    def parse_checkin_from_html(checkin):\n",
    "        checkin_id = int(checkin[\"data-checkin-id\"])\n",
    "        checkin_description = checkin.find(\"p\", {\"class\": \"text\"}).contents\n",
    "        beer_id = None\n",
    "        if ' is drinking a ' in checkin_description:\n",
    "            beer_id = int(checkin_description[checkin_description.index(' is drinking a ') + 1]['href'].split(\"/\")[-1])\n",
    "\n",
    "        location_id = None\n",
    "        if ' at ' in checkin_description:\n",
    "            location_id = int(checkin_description[checkin_description.index(' at ') + 1]['href'].split(\"/\")[-1])\n",
    "\n",
    "        rating_div = checkin.find(\"div\", {\"class\": \"caps\"})\n",
    "        rating = None if rating_div is None else float(rating_div['data-rating'])\n",
    "\n",
    "        comment_div = checkin.find(\"p\", {\"class\": \"comment-text\"})\n",
    "        comment = None if comment_div is None else comment_div.text.strip()\n",
    "\n",
    "        tagged_friends_div = checkin.find(\"div\", {\"class\": \"tagged-friends\"})\n",
    "        tagged_friends = [] if tagged_friends_div is None else [a[\"href\"].split(\"/\")[-1] for a in tagged_friends_div.findAll(\"a\")]\n",
    "\n",
    "        cheers_div = checkin.find(\"div\", {\"class\": \"cheers\"})\n",
    "        cheers = 0 if cheers_div is None else int(cheers_div.find(\"span\", {\"class\": \"count\"}).find(\"span\").text)\n",
    "\n",
    "        return CheckIn(checkin_id, user_id, beer_id, rating, location_id, comment, tagged_friends, cheers)\n",
    "    \n",
    "    return [parse_checkin_from_html(checkin) for checkin in checkins]"
   ]
  },
  {
   "cell_type": "code",
   "execution_count": 8,
   "metadata": {},
   "outputs": [
    {
     "name": "stdout",
     "output_type": "stream",
     "text": [
      "Michael S. (Sheehan) has rated 2175 beers through 2336 checkins, has 52 friends and got 1726 badges\n",
      "<__main__.CheckIn object at 0x0000019F536BC370>\n"
     ]
    }
   ],
   "source": [
    "user_id = \"Sheehan\"\n",
    "print(scrap_user_stats(user_id))\n",
    "print(scrap_user_checkins(user_id)[0])"
   ]
  },
  {
   "cell_type": "code",
   "execution_count": null,
   "metadata": {},
   "outputs": [],
   "source": [
    "request = requests.get(user_friends_url_template.format(\"timm3h\"), headers=headers, cookies=cookies)\n",
    "soup = BeautifulSoup(request.text, 'html.parser')\n",
    "number_of_friends = int(soup.body.find(\"div\", {\"class\": \"top\"}).find(\"p\")\\\n",
    "    .text.split()[-1]\\\n",
    "    .replace('(', '').replace(')', ''))"
   ]
  },
  {
   "cell_type": "code",
   "execution_count": null,
   "metadata": {},
   "outputs": [],
   "source": [
    "more_friends_request = requests.get(more_friends_url_template.format(\"timm3h\", 25), headers=headers, cookies=cookies)\n",
    "soup = BeautifulSoup(more_friends_request.content, 'html.parser')"
   ]
  },
  {
   "cell_type": "code",
   "execution_count": null,
   "metadata": {},
   "outputs": [],
   "source": [
    "more_friends_request.request.headers"
   ]
  },
  {
   "cell_type": "code",
   "execution_count": null,
   "metadata": {},
   "outputs": [],
   "source": [
    "start_user = \"Jonnyhead\"\n",
    "unvisited_nodes = set()\n",
    "unvisited_nodes.add(start_user)\n",
    "\n",
    "visited_nodes = set()\n",
    "total_nodes = [0]\n",
    "\n",
    "i = 0\n",
    "while len(unvisited_nodes) > 0:\n",
    "    username = unvisited_nodes.pop()\n",
    "    for friend in get_user_friends(username):\n",
    "        if friend not in unvisited_nodes and friend not in visited_nodes:\n",
    "            unvisited_nodes.add(friend)\n",
    "    visited_nodes.add(username)\n",
    "    total_nodes.append(len(unvisited_nodes) + len(visited_nodes))\n",
    "    print(\"{:03d}: {} found users            \".format(i+1, len(unvisited_nodes) + len(visited_nodes)), end='\\r')\n",
    "    i += 1"
   ]
  }
 ],
 "metadata": {
  "kernelspec": {
   "display_name": "Python 3",
   "language": "python",
   "name": "python3"
  },
  "language_info": {
   "codemirror_mode": {
    "name": "ipython",
    "version": 3
   },
   "file_extension": ".py",
   "mimetype": "text/x-python",
   "name": "python",
   "nbconvert_exporter": "python",
   "pygments_lexer": "ipython3",
   "version": "3.8.3"
  }
 },
 "nbformat": 4,
 "nbformat_minor": 4
}
